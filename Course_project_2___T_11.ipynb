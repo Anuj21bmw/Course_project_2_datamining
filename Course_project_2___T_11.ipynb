{
  "cells": [
    {
      "cell_type": "markdown",
      "source": [
        "GROUP MEMBER :1. ANUJ MEENA (202001038) 2. ANKIT RATHWA (202001190) 3. HEMISH SALAVIYA (202001206) 4. HARSH PARMAR (202001072) 5. CHANDRAPRAKASH CHAUDHARY (202001009)\n",
        "\n",
        "CONTRIBUTION:: ANKIT RATHWA (15) ANUJ MEENA (25) HEMISH SALAVIYA(30) HARSH PARMAR (15) CHANDRAPRAKASH CHAUDHARAY(15)\n",
        "\n",
        "This dataset includes labels that explain the linkages between flows connected with harmful or possibly malicious activity to provide network malware researchers and analysts with more thorough information. These labels were painstakingly created at the Stratosphere labs using malware capture analysis.\n",
        "\n",
        "\n",
        "The most interesting classification problem in this dataset depends on your specific goals and interests. However, from a network security perspective, \"Binary Classification - Malicious vs. Benign\" is likely the most essential and interesting problem. This is because it addresses the fundamental task of distinguishing between normal and potentially harmful network connections, which is crucial for identifying security threats."
      ],
      "metadata": {
        "id": "5c2WUOU_rnGJ"
      },
      "id": "5c2WUOU_rnGJ"
    },
    {
      "cell_type": "code",
      "execution_count": null,
      "id": "1f637b5b",
      "metadata": {
        "id": "1f637b5b"
      },
      "outputs": [],
      "source": [
        "# importing libraries of python\n",
        "import pandas as pd\n",
        "import numpy as np\n",
        "from sklearn.model_selection import train_test_split\n",
        "from sklearn.preprocessing import StandardScaler\n",
        "from sklearn.ensemble import RandomForestRegressor\n",
        "from sklearn.metrics import mean_squared_error, mean_squared_log_error"
      ]
    },
    {
      "cell_type": "code",
      "execution_count": null,
      "id": "296c7aa8",
      "metadata": {
        "scrolled": true,
        "id": "296c7aa8",
        "outputId": "cf350e0b-948a-489b-d7e7-027bddfae39d"
      },
      "outputs": [
        {
          "name": "stderr",
          "output_type": "stream",
          "text": [
            "C:\\Users\\Hemish Savaliya\\AppData\\Local\\Temp\\ipykernel_4276\\282993401.py:9: DtypeWarning: Columns (8,9,10) have mixed types. Specify dtype option on import or set low_memory=False.\n",
            "  df8 = pd.read_csv('CTU-IoT-Malware-Capture-48-1conn.log.labeled.csv', sep='|')\n"
          ]
        }
      ],
      "source": [
        "df0 = pd.read_csv('CTU-IoT-Malware-Capture-1-1conn.log.labeled.csv', sep='|')\n",
        "df1 = pd.read_csv('CTU-IoT-Malware-Capture-3-1conn.log.labeled.csv', sep='|')\n",
        "df2 = pd.read_csv('CTU-IoT-Malware-Capture-9-1conn.log.labeled.csv', sep='|')\n",
        "df3 = pd.read_csv('CTU-IoT-Malware-Capture-20-1conn.log.labeled.csv', sep='|')\n",
        "df4 = pd.read_csv('CTU-IoT-Malware-Capture-21-1conn.log.labeled.csv', sep='|')\n",
        "df5 = pd.read_csv('CTU-IoT-Malware-Capture-34-1conn.log.labeled.csv', sep='|')\n",
        "df6 = pd.read_csv('CTU-IoT-Malware-Capture-35-1conn.log.labeled.csv', sep='|')\n",
        "df7 = pd.read_csv('CTU-IoT-Malware-Capture-42-1conn.log.labeled.csv', sep='|')\n",
        "df8 = pd.read_csv('CTU-IoT-Malware-Capture-48-1conn.log.labeled.csv', sep='|')\n",
        "df9 = pd.read_csv('CTU-IoT-Malware-Capture-60-1conn.log.labeled.csv', sep='|')\n",
        "\n"
      ]
    },
    {
      "cell_type": "code",
      "execution_count": null,
      "id": "9668318a",
      "metadata": {
        "scrolled": false,
        "id": "9668318a",
        "outputId": "0191ad4f-5e05-4d74-c706-3adbc0cf9161"
      },
      "outputs": [
        {
          "name": "stdout",
          "output_type": "stream",
          "text": [
            "Info for df0:\n",
            "<class 'pandas.core.frame.DataFrame'>\n",
            "RangeIndex: 1008748 entries, 0 to 1008747\n",
            "Data columns (total 23 columns):\n",
            " #   Column          Non-Null Count    Dtype  \n",
            "---  ------          --------------    -----  \n",
            " 0   ts              1008748 non-null  float64\n",
            " 1   uid             1008748 non-null  object \n",
            " 2   id.orig_h       1008748 non-null  object \n",
            " 3   id.orig_p       1008748 non-null  float64\n",
            " 4   id.resp_h       1008748 non-null  object \n",
            " 5   id.resp_p       1008748 non-null  float64\n",
            " 6   proto           1008748 non-null  object \n",
            " 7   service         1008748 non-null  object \n",
            " 8   duration        1008748 non-null  object \n",
            " 9   orig_bytes      1008748 non-null  object \n",
            " 10  resp_bytes      1008748 non-null  object \n",
            " 11  conn_state      1008748 non-null  object \n",
            " 12  local_orig      1008748 non-null  object \n",
            " 13  local_resp      1008748 non-null  object \n",
            " 14  missed_bytes    1008748 non-null  float64\n",
            " 15  history         1008748 non-null  object \n",
            " 16  orig_pkts       1008748 non-null  float64\n",
            " 17  orig_ip_bytes   1008748 non-null  float64\n",
            " 18  resp_pkts       1008748 non-null  float64\n",
            " 19  resp_ip_bytes   1008748 non-null  float64\n",
            " 20  tunnel_parents  1008748 non-null  object \n",
            " 21  label           1008748 non-null  object \n",
            " 22  detailed-label  1008748 non-null  object \n",
            "dtypes: float64(8), object(15)\n",
            "memory usage: 177.0+ MB\n",
            "\n",
            "\n",
            "Info for df1:\n",
            "<class 'pandas.core.frame.DataFrame'>\n",
            "RangeIndex: 156103 entries, 0 to 156102\n",
            "Data columns (total 23 columns):\n",
            " #   Column          Non-Null Count   Dtype  \n",
            "---  ------          --------------   -----  \n",
            " 0   ts              156103 non-null  float64\n",
            " 1   uid             156103 non-null  object \n",
            " 2   id.orig_h       156103 non-null  object \n",
            " 3   id.orig_p       156103 non-null  float64\n",
            " 4   id.resp_h       156103 non-null  object \n",
            " 5   id.resp_p       156103 non-null  float64\n",
            " 6   proto           156103 non-null  object \n",
            " 7   service         156103 non-null  object \n",
            " 8   duration        156103 non-null  object \n",
            " 9   orig_bytes      156103 non-null  object \n",
            " 10  resp_bytes      156103 non-null  object \n",
            " 11  conn_state      156103 non-null  object \n",
            " 12  local_orig      156103 non-null  object \n",
            " 13  local_resp      156103 non-null  object \n",
            " 14  missed_bytes    156103 non-null  float64\n",
            " 15  history         156103 non-null  object \n",
            " 16  orig_pkts       156103 non-null  float64\n",
            " 17  orig_ip_bytes   156103 non-null  float64\n",
            " 18  resp_pkts       156103 non-null  float64\n",
            " 19  resp_ip_bytes   156103 non-null  float64\n",
            " 20  tunnel_parents  156103 non-null  object \n",
            " 21  label           156103 non-null  object \n",
            " 22  detailed-label  156103 non-null  object \n",
            "dtypes: float64(8), object(15)\n",
            "memory usage: 27.4+ MB\n",
            "\n",
            "\n",
            "Info for df2:\n",
            "<class 'pandas.core.frame.DataFrame'>\n",
            "RangeIndex: 6378293 entries, 0 to 6378292\n",
            "Data columns (total 23 columns):\n",
            " #   Column          Dtype  \n",
            "---  ------          -----  \n",
            " 0   ts              float64\n",
            " 1   uid             object \n",
            " 2   id.orig_h       object \n",
            " 3   id.orig_p       float64\n",
            " 4   id.resp_h       object \n",
            " 5   id.resp_p       float64\n",
            " 6   proto           object \n",
            " 7   service         object \n",
            " 8   duration        object \n",
            " 9   orig_bytes      object \n",
            " 10  resp_bytes      object \n",
            " 11  conn_state      object \n",
            " 12  local_orig      object \n",
            " 13  local_resp      object \n",
            " 14  missed_bytes    float64\n",
            " 15  history         object \n",
            " 16  orig_pkts       float64\n",
            " 17  orig_ip_bytes   float64\n",
            " 18  resp_pkts       float64\n",
            " 19  resp_ip_bytes   float64\n",
            " 20  tunnel_parents  object \n",
            " 21  label           object \n",
            " 22  detailed-label  object \n",
            "dtypes: float64(8), object(15)\n",
            "memory usage: 1.1+ GB\n",
            "\n",
            "\n",
            "Info for df3:\n",
            "<class 'pandas.core.frame.DataFrame'>\n",
            "RangeIndex: 3209 entries, 0 to 3208\n",
            "Data columns (total 23 columns):\n",
            " #   Column          Non-Null Count  Dtype  \n",
            "---  ------          --------------  -----  \n",
            " 0   ts              3209 non-null   float64\n",
            " 1   uid             3209 non-null   object \n",
            " 2   id.orig_h       3209 non-null   object \n",
            " 3   id.orig_p       3209 non-null   int64  \n",
            " 4   id.resp_h       3209 non-null   object \n",
            " 5   id.resp_p       3209 non-null   int64  \n",
            " 6   proto           3209 non-null   object \n",
            " 7   service         3209 non-null   object \n",
            " 8   duration        3209 non-null   object \n",
            " 9   orig_bytes      3209 non-null   object \n",
            " 10  resp_bytes      3209 non-null   object \n",
            " 11  conn_state      3209 non-null   object \n",
            " 12  local_orig      3209 non-null   object \n",
            " 13  local_resp      3209 non-null   object \n",
            " 14  missed_bytes    3209 non-null   int64  \n",
            " 15  history         3209 non-null   object \n",
            " 16  orig_pkts       3209 non-null   int64  \n",
            " 17  orig_ip_bytes   3209 non-null   int64  \n",
            " 18  resp_pkts       3209 non-null   int64  \n",
            " 19  resp_ip_bytes   3209 non-null   int64  \n",
            " 20  tunnel_parents  3209 non-null   object \n",
            " 21  label           3209 non-null   object \n",
            " 22  detailed-label  3209 non-null   object \n",
            "dtypes: float64(1), int64(7), object(15)\n",
            "memory usage: 576.7+ KB\n",
            "\n",
            "\n",
            "Info for df4:\n",
            "<class 'pandas.core.frame.DataFrame'>\n",
            "RangeIndex: 3286 entries, 0 to 3285\n",
            "Data columns (total 23 columns):\n",
            " #   Column          Non-Null Count  Dtype  \n",
            "---  ------          --------------  -----  \n",
            " 0   ts              3286 non-null   float64\n",
            " 1   uid             3286 non-null   object \n",
            " 2   id.orig_h       3286 non-null   object \n",
            " 3   id.orig_p       3286 non-null   int64  \n",
            " 4   id.resp_h       3286 non-null   object \n",
            " 5   id.resp_p       3286 non-null   int64  \n",
            " 6   proto           3286 non-null   object \n",
            " 7   service         3286 non-null   object \n",
            " 8   duration        3286 non-null   object \n",
            " 9   orig_bytes      3286 non-null   object \n",
            " 10  resp_bytes      3286 non-null   object \n",
            " 11  conn_state      3286 non-null   object \n",
            " 12  local_orig      3286 non-null   object \n",
            " 13  local_resp      3286 non-null   object \n",
            " 14  missed_bytes    3286 non-null   int64  \n",
            " 15  history         3286 non-null   object \n",
            " 16  orig_pkts       3286 non-null   int64  \n",
            " 17  orig_ip_bytes   3286 non-null   int64  \n",
            " 18  resp_pkts       3286 non-null   int64  \n",
            " 19  resp_ip_bytes   3286 non-null   int64  \n",
            " 20  tunnel_parents  3286 non-null   object \n",
            " 21  label           3286 non-null   object \n",
            " 22  detailed-label  3286 non-null   object \n",
            "dtypes: float64(1), int64(7), object(15)\n",
            "memory usage: 590.6+ KB\n",
            "\n",
            "\n",
            "Info for df5:\n",
            "<class 'pandas.core.frame.DataFrame'>\n",
            "RangeIndex: 23145 entries, 0 to 23144\n",
            "Data columns (total 23 columns):\n",
            " #   Column          Non-Null Count  Dtype  \n",
            "---  ------          --------------  -----  \n",
            " 0   ts              23145 non-null  float64\n",
            " 1   uid             23145 non-null  object \n",
            " 2   id.orig_h       23145 non-null  object \n",
            " 3   id.orig_p       23145 non-null  int64  \n",
            " 4   id.resp_h       23145 non-null  object \n",
            " 5   id.resp_p       23145 non-null  int64  \n",
            " 6   proto           23145 non-null  object \n",
            " 7   service         23145 non-null  object \n",
            " 8   duration        23145 non-null  object \n",
            " 9   orig_bytes      23145 non-null  object \n",
            " 10  resp_bytes      23145 non-null  object \n",
            " 11  conn_state      23145 non-null  object \n",
            " 12  local_orig      23145 non-null  object \n",
            " 13  local_resp      23145 non-null  object \n",
            " 14  missed_bytes    23145 non-null  int64  \n",
            " 15  history         23145 non-null  object \n",
            " 16  orig_pkts       23145 non-null  int64  \n",
            " 17  orig_ip_bytes   23145 non-null  int64  \n",
            " 18  resp_pkts       23145 non-null  int64  \n",
            " 19  resp_ip_bytes   23145 non-null  int64  \n",
            " 20  tunnel_parents  23145 non-null  object \n",
            " 21  label           23145 non-null  object \n",
            " 22  detailed-label  1923 non-null   object \n",
            "dtypes: float64(1), int64(7), object(15)\n",
            "memory usage: 4.1+ MB\n",
            "\n",
            "\n",
            "Info for df6:\n",
            "<class 'pandas.core.frame.DataFrame'>\n",
            "RangeIndex: 10447787 entries, 0 to 10447786\n",
            "Data columns (total 23 columns):\n",
            " #   Column          Dtype  \n",
            "---  ------          -----  \n",
            " 0   ts              float64\n",
            " 1   uid             object \n",
            " 2   id.orig_h       object \n",
            " 3   id.orig_p       float64\n",
            " 4   id.resp_h       object \n",
            " 5   id.resp_p       float64\n",
            " 6   proto           object \n",
            " 7   service         object \n",
            " 8   duration        object \n",
            " 9   orig_bytes      object \n",
            " 10  resp_bytes      object \n",
            " 11  conn_state      object \n",
            " 12  local_orig      object \n",
            " 13  local_resp      object \n",
            " 14  missed_bytes    float64\n",
            " 15  history         object \n",
            " 16  orig_pkts       float64\n",
            " 17  orig_ip_bytes   float64\n",
            " 18  resp_pkts       float64\n",
            " 19  resp_ip_bytes   float64\n",
            " 20  tunnel_parents  object \n",
            " 21  label           object \n",
            " 22  detailed-label  object \n",
            "dtypes: float64(8), object(15)\n",
            "memory usage: 1.8+ GB\n",
            "\n",
            "\n",
            "Info for df7:\n",
            "<class 'pandas.core.frame.DataFrame'>\n",
            "RangeIndex: 4426 entries, 0 to 4425\n",
            "Data columns (total 23 columns):\n",
            " #   Column          Non-Null Count  Dtype  \n",
            "---  ------          --------------  -----  \n",
            " 0   ts              4426 non-null   float64\n",
            " 1   uid             4426 non-null   object \n",
            " 2   id.orig_h       4426 non-null   object \n",
            " 3   id.orig_p       4426 non-null   int64  \n",
            " 4   id.resp_h       4426 non-null   object \n",
            " 5   id.resp_p       4426 non-null   int64  \n",
            " 6   proto           4426 non-null   object \n",
            " 7   service         4426 non-null   object \n",
            " 8   duration        4426 non-null   object \n",
            " 9   orig_bytes      4426 non-null   object \n",
            " 10  resp_bytes      4426 non-null   object \n",
            " 11  conn_state      4426 non-null   object \n",
            " 12  local_orig      4426 non-null   object \n",
            " 13  local_resp      4426 non-null   object \n",
            " 14  missed_bytes    4426 non-null   int64  \n",
            " 15  history         4426 non-null   object \n",
            " 16  orig_pkts       4426 non-null   int64  \n",
            " 17  orig_ip_bytes   4426 non-null   int64  \n",
            " 18  resp_pkts       4426 non-null   int64  \n",
            " 19  resp_ip_bytes   4426 non-null   int64  \n",
            " 20  tunnel_parents  4426 non-null   object \n",
            " 21  label           4426 non-null   object \n",
            " 22  detailed-label  4423 non-null   object \n",
            "dtypes: float64(1), int64(7), object(15)\n",
            "memory usage: 795.4+ KB\n",
            "\n",
            "\n",
            "Info for df8:\n",
            "<class 'pandas.core.frame.DataFrame'>\n",
            "RangeIndex: 3394338 entries, 0 to 3394337\n",
            "Data columns (total 23 columns):\n",
            " #   Column          Dtype  \n",
            "---  ------          -----  \n",
            " 0   ts              float64\n",
            " 1   uid             object \n",
            " 2   id.orig_h       object \n",
            " 3   id.orig_p       float64\n",
            " 4   id.resp_h       object \n",
            " 5   id.resp_p       float64\n",
            " 6   proto           object \n",
            " 7   service         object \n",
            " 8   duration        object \n",
            " 9   orig_bytes      object \n",
            " 10  resp_bytes      object \n",
            " 11  conn_state      object \n",
            " 12  local_orig      object \n",
            " 13  local_resp      object \n",
            " 14  missed_bytes    float64\n",
            " 15  history         object \n",
            " 16  orig_pkts       float64\n",
            " 17  orig_ip_bytes   float64\n",
            " 18  resp_pkts       float64\n",
            " 19  resp_ip_bytes   float64\n",
            " 20  tunnel_parents  object \n",
            " 21  label           object \n",
            " 22  detailed-label  object \n",
            "dtypes: float64(8), object(15)\n",
            "memory usage: 595.6+ MB\n",
            "\n",
            "\n",
            "Info for df9:\n",
            "<class 'pandas.core.frame.DataFrame'>\n",
            "RangeIndex: 3581028 entries, 0 to 3581027\n",
            "Data columns (total 23 columns):\n",
            " #   Column          Dtype  \n",
            "---  ------          -----  \n",
            " 0   ts              float64\n",
            " 1   uid             object \n",
            " 2   id.orig_h       object \n",
            " 3   id.orig_p       float64\n",
            " 4   id.resp_h       object \n",
            " 5   id.resp_p       float64\n",
            " 6   proto           object \n",
            " 7   service         object \n",
            " 8   duration        object \n",
            " 9   orig_bytes      object \n",
            " 10  resp_bytes      object \n",
            " 11  conn_state      object \n",
            " 12  local_orig      object \n",
            " 13  local_resp      object \n",
            " 14  missed_bytes    float64\n",
            " 15  history         object \n",
            " 16  orig_pkts       float64\n",
            " 17  orig_ip_bytes   float64\n",
            " 18  resp_pkts       float64\n",
            " 19  resp_ip_bytes   float64\n",
            " 20  tunnel_parents  object \n",
            " 21  label           object \n",
            " 22  detailed-label  object \n",
            "dtypes: float64(8), object(15)\n",
            "memory usage: 628.4+ MB\n",
            "\n",
            "\n"
          ]
        }
      ],
      "source": [
        "# Create a list of your dataframes\n",
        "dataframes = [df0, df1, df2, df3, df4, df5, df6, df7, df8, df9]\n",
        "\n",
        "# Use a for loop to print info for each dataframe\n",
        "for i, df in enumerate(dataframes):\n",
        "    print(f\"Info for df{i}:\")\n",
        "    df.info()\n",
        "    print(\"\\n\")\n"
      ]
    },
    {
      "cell_type": "code",
      "execution_count": null,
      "id": "a1b5ef31",
      "metadata": {
        "id": "a1b5ef31",
        "outputId": "9041e53f-3af7-43e8-a0b6-5b6e2642f175"
      },
      "outputs": [
        {
          "name": "stdout",
          "output_type": "stream",
          "text": [
            "Data Structure Consistency:\n",
            "DataFrame 0: (1008748, 23)\n",
            "DataFrame 1: (156103, 23)\n",
            "DataFrame 2: (6378293, 23)\n",
            "DataFrame 3: (3209, 23)\n",
            "DataFrame 4: (3286, 23)\n",
            "DataFrame 5: (23145, 23)\n",
            "DataFrame 6: (10447787, 23)\n",
            "DataFrame 7: (4426, 23)\n",
            "DataFrame 8: (3394338, 23)\n",
            "DataFrame 9: (3581028, 23)\n"
          ]
        }
      ],
      "source": [
        "# Check data consistency and label alignment\n",
        "print(\"Data Structure Consistency:\")\n",
        "for i, df in enumerate([df0, df1, df2, df3, df4, df5, df6, df7, df8, df9]):\n",
        "    print(f\"DataFrame {i}: {df.shape}\")"
      ]
    },
    {
      "cell_type": "code",
      "execution_count": null,
      "id": "fd241d6d",
      "metadata": {
        "id": "fd241d6d",
        "outputId": "c71c36be-4a51-4ffc-b58d-e4ede5356373"
      },
      "outputs": [
        {
          "name": "stdout",
          "output_type": "stream",
          "text": [
            "\n",
            "Class Distributions:\n",
            "DataFrame 0\n",
            "Malicious    539473\n",
            "Benign       469275\n",
            "Name: label, dtype: int64\n",
            "\n",
            "\n",
            "DataFrame 1\n",
            "Malicious    151567\n",
            "Benign         4536\n",
            "Name: label, dtype: int64\n",
            "\n",
            "\n",
            "DataFrame 2\n",
            "Malicious    6355745\n",
            "Benign         22548\n",
            "Name: label, dtype: int64\n",
            "\n",
            "\n",
            "DataFrame 3\n",
            "Benign             3193\n",
            "Malicious   C&C      16\n",
            "Name: label, dtype: int64\n",
            "\n",
            "\n",
            "DataFrame 4\n",
            "Benign             3272\n",
            "Malicious   C&C      14\n",
            "Name: label, dtype: int64\n",
            "\n",
            "\n",
            "DataFrame 5\n",
            "Malicious   DDoS                         14394\n",
            "Malicious   C&C                           6706\n",
            "Benign                                    1923\n",
            "Malicious   PartOfAHorizontalPortScan      122\n",
            "Name: label, dtype: int64\n",
            "\n",
            "\n",
            "DataFrame 6\n",
            "Benign                8262389\n",
            "Malicious   DDoS      2185302\n",
            "Malicious   C&C            93\n",
            "Malicious   Attack          3\n",
            "Name: label, dtype: int64\n",
            "\n",
            "\n",
            "DataFrame 7\n",
            "Benign                      4420\n",
            "Malicious   FileDownload       3\n",
            "Malicious   C&C                3\n",
            "Name: label, dtype: int64\n",
            "\n",
            "\n",
            "DataFrame 8\n",
            "Malicious   PartOfAHorizontalPortScan    3386119\n",
            "Benign                                      3734\n",
            "Malicious   Attack                          2752\n",
            "Malicious   C&C                             1733\n",
            "Name: label, dtype: int64\n",
            "\n",
            "\n",
            "DataFrame 9\n",
            "Malicious   DDoS    3578457\n",
            "Benign                 2476\n",
            "Malicious   C&C          95\n",
            "Name: label, dtype: int64\n",
            "\n",
            "\n"
          ]
        }
      ],
      "source": [
        "# Check for class imbalances\n",
        "class_distributions = {}\n",
        "for i, df in enumerate([df0, df1, df2, df3, df4, df5, df6, df7, df8, df9]):\n",
        "    class_counts = df['label'].value_counts()\n",
        "    class_distributions[f'DataFrame {i}'] = class_counts\n",
        "\n",
        "print(\"\\nClass Distributions:\")\n",
        "for df, class_counts in class_distributions.items():\n",
        "    print(df)\n",
        "    print(class_counts)\n",
        "    print(\"\\n\")"
      ]
    },
    {
      "cell_type": "code",
      "execution_count": null,
      "id": "bb31d9f0",
      "metadata": {
        "id": "bb31d9f0",
        "outputId": "452cdafa-77a3-426b-e888-24c6d2c0e55a"
      },
      "outputs": [
        {
          "name": "stderr",
          "output_type": "stream",
          "text": [
            "C:\\Users\\Hemish Savaliya\\AppData\\Local\\Temp\\ipykernel_4276\\761832891.py:6: FutureWarning: The default value of regex will change from True to False in a future version.\n",
            "  df['label'] = df['label'].str.replace(r'\\s+', ' ')  # Replace multiple spaces with a single space using a regular expression\n"
          ]
        }
      ],
      "source": [
        "dataframes = [df0, df1, df2, df3, df4, df5, df6, df7, df8, df9]\n",
        "\n",
        "for df in dataframes:\n",
        "    df['label'] = df['label'].str.strip()\n",
        "    df['label'] = df['label'].str.replace(r'\\s+', ' ')"
      ]
    },
    {
      "cell_type": "code",
      "execution_count": null,
      "id": "e88be6c4",
      "metadata": {
        "id": "e88be6c4"
      },
      "outputs": [],
      "source": [
        "\n",
        "dataframes = [df0, df1, df2, df3, df4, df5, df6, df7, df8, df9]\n",
        "\n",
        "dataframe_dict = {}\n",
        "\n",
        "# Split dataframes based on unique labels\n",
        "for i, df in enumerate(dataframes):\n",
        "    unique_labels = df['label'].unique()\n",
        "    for label in unique_labels:\n",
        "        label_df = df[df['label'] == label]\n",
        "        dataframe_dict[f'DataFrame {i}_{label}'] = label_df\n",
        "\n"
      ]
    },
    {
      "cell_type": "code",
      "execution_count": null,
      "id": "b2ae7e90",
      "metadata": {
        "id": "b2ae7e90"
      },
      "outputs": [],
      "source": [
        "\n",
        "common_labels = set(df0['label'].unique())\n",
        "\n",
        "for df in [df1, df2, df3, df4, df5, df6, df7, df8, df9]:\n",
        "    common_labels = common_labels.intersection(df['label'].unique())\n",
        "\n",
        "common_label_dataframes = {}\n",
        "\n",
        "for df in [df0, df1, df2, df3, df4, df5, df6, df7, df8, df9]:\n",
        "    common_label_df = df[df['label'].isin(common_labels)]\n",
        "    common_label_dataframes[f'DataFrame_{df.index[0]}'] = common_label_df\n",
        "\n"
      ]
    },
    {
      "cell_type": "code",
      "execution_count": null,
      "id": "eb914c5f",
      "metadata": {
        "id": "eb914c5f",
        "outputId": "d671ab89-41b5-43ec-f72a-81fd1b55d93c"
      },
      "outputs": [
        {
          "name": "stdout",
          "output_type": "stream",
          "text": [
            "DataFrame 0 Unique Labels: ['Malicious' 'Benign']\n",
            "DataFrame 1 Unique Labels: ['Malicious' 'Benign']\n",
            "DataFrame 2 Unique Labels: ['Benign' 'Malicious']\n",
            "DataFrame 3 Unique Labels: ['Benign' 'Malicious C&C']\n",
            "DataFrame 4 Unique Labels: ['Benign' 'Malicious C&C']\n",
            "DataFrame 5 Unique Labels: ['Benign' 'Malicious C&C' 'Malicious PartOfAHorizontalPortScan'\n",
            " 'Malicious DDoS']\n",
            "DataFrame 6 Unique Labels: ['Malicious C&C' 'Benign' 'Malicious Attack' 'Malicious DDoS']\n",
            "DataFrame 7 Unique Labels: ['Malicious FileDownload' 'Malicious C&C' 'Benign']\n",
            "DataFrame 8 Unique Labels: ['Malicious C&C' 'Malicious PartOfAHorizontalPortScan' 'Malicious Attack'\n",
            " 'Benign']\n",
            "DataFrame 9 Unique Labels: ['Benign' 'Malicious C&C' 'Malicious DDoS']\n"
          ]
        }
      ],
      "source": [
        "for i, df in enumerate(dataframes):\n",
        "    unique_labels = df['label'].unique()\n",
        "    print(f\"DataFrame {i} Unique Labels: {unique_labels}\")\n"
      ]
    },
    {
      "cell_type": "code",
      "execution_count": null,
      "id": "42cfd5b0",
      "metadata": {
        "id": "42cfd5b0",
        "outputId": "beff460e-d3a7-4df7-88a0-c9cec2612f57"
      },
      "outputs": [
        {
          "name": "stdout",
          "output_type": "stream",
          "text": [
            "Subset DataFrame 0_Malicious Unique Labels: ['Malicious']\n",
            "Subset DataFrame 0_Benign Unique Labels: ['Benign']\n",
            "Subset DataFrame 1_Malicious Unique Labels: ['Malicious']\n",
            "Subset DataFrame 1_Benign Unique Labels: ['Benign']\n",
            "Subset DataFrame 2_Benign Unique Labels: ['Benign']\n",
            "Subset DataFrame 2_Malicious Unique Labels: ['Malicious']\n",
            "Subset DataFrame 3_Benign Unique Labels: ['Benign']\n",
            "Subset DataFrame 3_Malicious C&C Unique Labels: ['Malicious C&C']\n",
            "Subset DataFrame 4_Benign Unique Labels: ['Benign']\n",
            "Subset DataFrame 4_Malicious C&C Unique Labels: ['Malicious C&C']\n",
            "Subset DataFrame 5_Benign Unique Labels: ['Benign']\n",
            "Subset DataFrame 5_Malicious C&C Unique Labels: ['Malicious C&C']\n",
            "Subset DataFrame 5_Malicious PartOfAHorizontalPortScan Unique Labels: ['Malicious PartOfAHorizontalPortScan']\n",
            "Subset DataFrame 5_Malicious DDoS Unique Labels: ['Malicious DDoS']\n",
            "Subset DataFrame 6_Malicious C&C Unique Labels: ['Malicious C&C']\n",
            "Subset DataFrame 6_Benign Unique Labels: ['Benign']\n",
            "Subset DataFrame 6_Malicious Attack Unique Labels: ['Malicious Attack']\n",
            "Subset DataFrame 6_Malicious DDoS Unique Labels: ['Malicious DDoS']\n",
            "Subset DataFrame 7_Malicious FileDownload Unique Labels: ['Malicious FileDownload']\n",
            "Subset DataFrame 7_Malicious C&C Unique Labels: ['Malicious C&C']\n",
            "Subset DataFrame 7_Benign Unique Labels: ['Benign']\n",
            "Subset DataFrame 8_Malicious C&C Unique Labels: ['Malicious C&C']\n",
            "Subset DataFrame 8_Malicious PartOfAHorizontalPortScan Unique Labels: ['Malicious PartOfAHorizontalPortScan']\n",
            "Subset DataFrame 8_Malicious Attack Unique Labels: ['Malicious Attack']\n",
            "Subset DataFrame 8_Benign Unique Labels: ['Benign']\n",
            "Subset DataFrame 9_Benign Unique Labels: ['Benign']\n",
            "Subset DataFrame 9_Malicious C&C Unique Labels: ['Malicious C&C']\n",
            "Subset DataFrame 9_Malicious DDoS Unique Labels: ['Malicious DDoS']\n"
          ]
        }
      ],
      "source": [
        "for key, df in dataframe_dict.items():\n",
        "    unique_labels = df['label'].unique()\n",
        "    print(f\"Subset {key} Unique Labels: {unique_labels}\")\n",
        "\n"
      ]
    },
    {
      "cell_type": "code",
      "execution_count": null,
      "id": "1bc58576",
      "metadata": {
        "id": "1bc58576",
        "outputId": "ddfb0cfe-e804-4103-b3f7-8e1636177a2e"
      },
      "outputs": [
        {
          "name": "stdout",
          "output_type": "stream",
          "text": [
            "Common Labels DataFrame DataFrame_0 Unique Labels: ['Benign']\n"
          ]
        }
      ],
      "source": [
        "# Check if dataframes with common labels are correctly created\n",
        "for key, df in common_label_dataframes.items():\n",
        "    unique_labels = df['label'].unique()\n",
        "    print(f\"Common Labels DataFrame {key} Unique Labels: {unique_labels}\")\n"
      ]
    },
    {
      "cell_type": "code",
      "execution_count": null,
      "id": "7e35c10b",
      "metadata": {
        "id": "7e35c10b",
        "outputId": "115ca266-b965-4401-a713-18fa81a16fdb"
      },
      "outputs": [
        {
          "name": "stdout",
          "output_type": "stream",
          "text": [
            "              ts                 uid      id.orig_h  id.orig_p       id.resp_h\n",
            "0   1.568940e+09  CEjjLs1iwWYrt8C4O6  192.168.1.195      123.0  212.111.30.190\n",
            "1   1.568940e+09  CHNzmm3tMu5Gse9Zvg  192.168.1.195      123.0  89.221.218.101\n",
            "3   1.568940e+09  CxKxhj4MGsf5GcqoX6    192.168.1.1    47805.0   192.168.1.195\n",
            "11  1.568940e+09   CK019F3u4Q06h7jhj  192.168.1.195      123.0  89.221.210.188\n",
            "38  1.568941e+09  C5J6CM1cD3yLBrJAbk  192.168.1.195      123.0      5.1.56.123\n"
          ]
        }
      ],
      "source": [
        "\n",
        "first_five_rows = common_label_dataframes['DataFrame_0'].head()\n",
        "first_five_rows_columns = first_five_rows.iloc[:, :5]\n",
        "\n",
        "# Display the extracted data\n",
        "print(first_five_rows_columns)\n"
      ]
    },
    {
      "cell_type": "code",
      "execution_count": null,
      "id": "59e4bdd6",
      "metadata": {
        "id": "59e4bdd6"
      },
      "outputs": [],
      "source": [
        "\n",
        "from sklearn.preprocessing import LabelEncoder\n",
        "from sklearn.model_selection import train_test_split\n",
        "\n",
        "\n",
        "X = relevant_data.drop(columns=['id.resp_h'])  # Features\n",
        "y = relevant_data['id.resp_h']  # Target variable\n",
        "\n",
        "label_encoder = LabelEncoder()\n",
        "label_encoder = LabelEncoder()\n",
        "X['id.orig_h'] = label_encoder.fit_transform(X['id.orig_h'])\n",
        "\n",
        "X_train, X_test, y_train, y_test = train_test_split(X, y, test_size=0.2, random_state=42)\n",
        "\n"
      ]
    },
    {
      "cell_type": "code",
      "execution_count": null,
      "id": "d1a6a47b",
      "metadata": {
        "id": "d1a6a47b",
        "outputId": "2da54fac-a3b7-4fa4-bd71-1b9889726e74"
      },
      "outputs": [
        {
          "name": "stderr",
          "output_type": "stream",
          "text": [
            "C:\\Users\\Hemish Savaliya\\anaconda3\\Lib\\site-packages\\sklearn\\ensemble\\_forest.py:424: FutureWarning: `max_features='auto'` has been deprecated in 1.1 and will be removed in 1.3. To keep the past behaviour, explicitly set `max_features='sqrt'` or remove this parameter as it is also the default value for RandomForestClassifiers and ExtraTreesClassifiers.\n",
            "  warn(\n"
          ]
        },
        {
          "data": {
            "text/html": [
              "<style>#sk-container-id-1 {color: black;background-color: white;}#sk-container-id-1 pre{padding: 0;}#sk-container-id-1 div.sk-toggleable {background-color: white;}#sk-container-id-1 label.sk-toggleable__label {cursor: pointer;display: block;width: 100%;margin-bottom: 0;padding: 0.3em;box-sizing: border-box;text-align: center;}#sk-container-id-1 label.sk-toggleable__label-arrow:before {content: \"▸\";float: left;margin-right: 0.25em;color: #696969;}#sk-container-id-1 label.sk-toggleable__label-arrow:hover:before {color: black;}#sk-container-id-1 div.sk-estimator:hover label.sk-toggleable__label-arrow:before {color: black;}#sk-container-id-1 div.sk-toggleable__content {max-height: 0;max-width: 0;overflow: hidden;text-align: left;background-color: #f0f8ff;}#sk-container-id-1 div.sk-toggleable__content pre {margin: 0.2em;color: black;border-radius: 0.25em;background-color: #f0f8ff;}#sk-container-id-1 input.sk-toggleable__control:checked~div.sk-toggleable__content {max-height: 200px;max-width: 100%;overflow: auto;}#sk-container-id-1 input.sk-toggleable__control:checked~label.sk-toggleable__label-arrow:before {content: \"▾\";}#sk-container-id-1 div.sk-estimator input.sk-toggleable__control:checked~label.sk-toggleable__label {background-color: #d4ebff;}#sk-container-id-1 div.sk-label input.sk-toggleable__control:checked~label.sk-toggleable__label {background-color: #d4ebff;}#sk-container-id-1 input.sk-hidden--visually {border: 0;clip: rect(1px 1px 1px 1px);clip: rect(1px, 1px, 1px, 1px);height: 1px;margin: -1px;overflow: hidden;padding: 0;position: absolute;width: 1px;}#sk-container-id-1 div.sk-estimator {font-family: monospace;background-color: #f0f8ff;border: 1px dotted black;border-radius: 0.25em;box-sizing: border-box;margin-bottom: 0.5em;}#sk-container-id-1 div.sk-estimator:hover {background-color: #d4ebff;}#sk-container-id-1 div.sk-parallel-item::after {content: \"\";width: 100%;border-bottom: 1px solid gray;flex-grow: 1;}#sk-container-id-1 div.sk-label:hover label.sk-toggleable__label {background-color: #d4ebff;}#sk-container-id-1 div.sk-serial::before {content: \"\";position: absolute;border-left: 1px solid gray;box-sizing: border-box;top: 0;bottom: 0;left: 50%;z-index: 0;}#sk-container-id-1 div.sk-serial {display: flex;flex-direction: column;align-items: center;background-color: white;padding-right: 0.2em;padding-left: 0.2em;position: relative;}#sk-container-id-1 div.sk-item {position: relative;z-index: 1;}#sk-container-id-1 div.sk-parallel {display: flex;align-items: stretch;justify-content: center;background-color: white;position: relative;}#sk-container-id-1 div.sk-item::before, #sk-container-id-1 div.sk-parallel-item::before {content: \"\";position: absolute;border-left: 1px solid gray;box-sizing: border-box;top: 0;bottom: 0;left: 50%;z-index: -1;}#sk-container-id-1 div.sk-parallel-item {display: flex;flex-direction: column;z-index: 1;position: relative;background-color: white;}#sk-container-id-1 div.sk-parallel-item:first-child::after {align-self: flex-end;width: 50%;}#sk-container-id-1 div.sk-parallel-item:last-child::after {align-self: flex-start;width: 50%;}#sk-container-id-1 div.sk-parallel-item:only-child::after {width: 0;}#sk-container-id-1 div.sk-dashed-wrapped {border: 1px dashed gray;margin: 0 0.4em 0.5em 0.4em;box-sizing: border-box;padding-bottom: 0.4em;background-color: white;}#sk-container-id-1 div.sk-label label {font-family: monospace;font-weight: bold;display: inline-block;line-height: 1.2em;}#sk-container-id-1 div.sk-label-container {text-align: center;}#sk-container-id-1 div.sk-container {/* jupyter's `normalize.less` sets `[hidden] { display: none; }` but bootstrap.min.css set `[hidden] { display: none !important; }` so we also need the `!important` here to be able to override the default hidden behavior on the sphinx rendered scikit-learn.org. See: https://github.com/scikit-learn/scikit-learn/issues/21755 */display: inline-block !important;position: relative;}#sk-container-id-1 div.sk-text-repr-fallback {display: none;}</style><div id=\"sk-container-id-1\" class=\"sk-top-container\"><div class=\"sk-text-repr-fallback\"><pre>RandomForestClassifier(max_features=&#x27;auto&#x27;, n_estimators=200, random_state=42)</pre><b>In a Jupyter environment, please rerun this cell to show the HTML representation or trust the notebook. <br />On GitHub, the HTML representation is unable to render, please try loading this page with nbviewer.org.</b></div><div class=\"sk-container\" hidden><div class=\"sk-item\"><div class=\"sk-estimator sk-toggleable\"><input class=\"sk-toggleable__control sk-hidden--visually\" id=\"sk-estimator-id-1\" type=\"checkbox\" checked><label for=\"sk-estimator-id-1\" class=\"sk-toggleable__label sk-toggleable__label-arrow\">RandomForestClassifier</label><div class=\"sk-toggleable__content\"><pre>RandomForestClassifier(max_features=&#x27;auto&#x27;, n_estimators=200, random_state=42)</pre></div></div></div></div></div>"
            ],
            "text/plain": [
              "RandomForestClassifier(max_features='auto', n_estimators=200, random_state=42)"
            ]
          },
          "execution_count": 28,
          "metadata": {},
          "output_type": "execute_result"
        }
      ],
      "source": [
        "from sklearn.ensemble import RandomForestClassifier\n",
        "\n",
        "n_estimators = 200\n",
        "\n",
        "rf_classifier = RandomForestClassifier(n_estimators=n_estimators,\n",
        "                                       max_depth=None,\n",
        "                                       min_samples_split=2,\n",
        "                                       min_samples_leaf=1,\n",
        "                                       max_features='auto',\n",
        "                                       random_state=42)\n",
        "# Fit the model using the training data\n",
        "rf_classifier.fit(X_train, y_train)\n"
      ]
    },
    {
      "cell_type": "code",
      "execution_count": null,
      "id": "a3997b88",
      "metadata": {
        "id": "a3997b88",
        "outputId": "517efc62-20a5-4829-cbbd-d35ebc3d7a3c"
      },
      "outputs": [
        {
          "name": "stdout",
          "output_type": "stream",
          "text": [
            "Accuracy: 0.8185483870967742\n",
            "                precision    recall  f1-score   support\n",
            "\n",
            " 192.168.1.195       1.00      1.00      1.00       396\n",
            "212.111.30.190       0.00      0.00      0.00        26\n",
            "   31.31.74.35       0.00      0.00      0.00        20\n",
            "    5.1.56.123       0.00      0.00      0.00        14\n",
            "   81.2.254.32       0.00      0.00      0.00        14\n",
            "89.221.210.188       0.10      1.00      0.18        10\n",
            "89.221.218.101       0.00      0.00      0.00        16\n",
            "\n",
            "      accuracy                           0.82       496\n",
            "     macro avg       0.16      0.29      0.17       496\n",
            "  weighted avg       0.80      0.82      0.80       496\n",
            "\n"
          ]
        },
        {
          "name": "stderr",
          "output_type": "stream",
          "text": [
            "C:\\Users\\Hemish Savaliya\\anaconda3\\Lib\\site-packages\\sklearn\\metrics\\_classification.py:1344: UndefinedMetricWarning: Precision and F-score are ill-defined and being set to 0.0 in labels with no predicted samples. Use `zero_division` parameter to control this behavior.\n",
            "  _warn_prf(average, modifier, msg_start, len(result))\n",
            "C:\\Users\\Hemish Savaliya\\anaconda3\\Lib\\site-packages\\sklearn\\metrics\\_classification.py:1344: UndefinedMetricWarning: Precision and F-score are ill-defined and being set to 0.0 in labels with no predicted samples. Use `zero_division` parameter to control this behavior.\n",
            "  _warn_prf(average, modifier, msg_start, len(result))\n",
            "C:\\Users\\Hemish Savaliya\\anaconda3\\Lib\\site-packages\\sklearn\\metrics\\_classification.py:1344: UndefinedMetricWarning: Precision and F-score are ill-defined and being set to 0.0 in labels with no predicted samples. Use `zero_division` parameter to control this behavior.\n",
            "  _warn_prf(average, modifier, msg_start, len(result))\n"
          ]
        }
      ],
      "source": [
        "from sklearn.metrics import accuracy_score, classification_report\n",
        "\n",
        "y_pred = rf_classifier.predict(X_test)\n",
        "\n",
        "# Evaluate accuracy\n",
        "accuracy = accuracy_score(y_test, y_pred)\n",
        "print(f'Accuracy: {accuracy}')\n",
        "\n",
        "# Classification report\n",
        "print(classification_report(y_test, y_pred))\n"
      ]
    }
  ],
  "metadata": {
    "kernelspec": {
      "display_name": "Python 3 (ipykernel)",
      "language": "python",
      "name": "python3"
    },
    "language_info": {
      "codemirror_mode": {
        "name": "ipython",
        "version": 3
      },
      "file_extension": ".py",
      "mimetype": "text/x-python",
      "name": "python",
      "nbconvert_exporter": "python",
      "pygments_lexer": "ipython3",
      "version": "3.11.3"
    },
    "colab": {
      "provenance": []
    }
  },
  "nbformat": 4,
  "nbformat_minor": 5
}